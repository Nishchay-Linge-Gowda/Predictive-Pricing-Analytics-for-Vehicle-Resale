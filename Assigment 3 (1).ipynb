{
 "cells": [
  {
   "cell_type": "code",
   "execution_count": 1,
   "id": "5d42f075-c890-44c3-88a6-0468cdd6b149",
   "metadata": {},
   "outputs": [],
   "source": [
    "import pandas as pd\n",
    "import numpy as np\n",
    "import matplotlib.pyplot as plt"
   ]
  },
  {
   "cell_type": "code",
   "execution_count": 5,
   "id": "ba734b5b-45da-4a5c-9af8-b54f0864bc95",
   "metadata": {},
   "outputs": [
    {
     "data": {
      "text/html": [
       "<div>\n",
       "<style scoped>\n",
       "    .dataframe tbody tr th:only-of-type {\n",
       "        vertical-align: middle;\n",
       "    }\n",
       "\n",
       "    .dataframe tbody tr th {\n",
       "        vertical-align: top;\n",
       "    }\n",
       "\n",
       "    .dataframe thead th {\n",
       "        text-align: right;\n",
       "    }\n",
       "</style>\n",
       "<table border=\"1\" class=\"dataframe\">\n",
       "  <thead>\n",
       "    <tr style=\"text-align: right;\">\n",
       "      <th></th>\n",
       "      <th>Sample</th>\n",
       "      <th>Probability of New Variant (NV) from the testing laboratory</th>\n",
       "      <th>Actual Class</th>\n",
       "    </tr>\n",
       "  </thead>\n",
       "  <tbody>\n",
       "    <tr>\n",
       "      <th>0</th>\n",
       "      <td>34</td>\n",
       "      <td>0.989342</td>\n",
       "      <td>NV</td>\n",
       "    </tr>\n",
       "    <tr>\n",
       "      <th>1</th>\n",
       "      <td>3</td>\n",
       "      <td>0.927277</td>\n",
       "      <td>NV</td>\n",
       "    </tr>\n",
       "    <tr>\n",
       "      <th>2</th>\n",
       "      <td>20</td>\n",
       "      <td>0.911406</td>\n",
       "      <td>O</td>\n",
       "    </tr>\n",
       "    <tr>\n",
       "      <th>3</th>\n",
       "      <td>31</td>\n",
       "      <td>0.896724</td>\n",
       "      <td>NV</td>\n",
       "    </tr>\n",
       "    <tr>\n",
       "      <th>4</th>\n",
       "      <td>27</td>\n",
       "      <td>0.875694</td>\n",
       "      <td>O</td>\n",
       "    </tr>\n",
       "    <tr>\n",
       "      <th>5</th>\n",
       "      <td>23</td>\n",
       "      <td>0.873166</td>\n",
       "      <td>NV</td>\n",
       "    </tr>\n",
       "    <tr>\n",
       "      <th>6</th>\n",
       "      <td>10</td>\n",
       "      <td>0.805518</td>\n",
       "      <td>NV</td>\n",
       "    </tr>\n",
       "    <tr>\n",
       "      <th>7</th>\n",
       "      <td>21</td>\n",
       "      <td>0.801078</td>\n",
       "      <td>NV</td>\n",
       "    </tr>\n",
       "    <tr>\n",
       "      <th>8</th>\n",
       "      <td>22</td>\n",
       "      <td>0.793945</td>\n",
       "      <td>O</td>\n",
       "    </tr>\n",
       "    <tr>\n",
       "      <th>9</th>\n",
       "      <td>32</td>\n",
       "      <td>0.792947</td>\n",
       "      <td>NV</td>\n",
       "    </tr>\n",
       "    <tr>\n",
       "      <th>10</th>\n",
       "      <td>30</td>\n",
       "      <td>0.789877</td>\n",
       "      <td>O</td>\n",
       "    </tr>\n",
       "    <tr>\n",
       "      <th>11</th>\n",
       "      <td>2</td>\n",
       "      <td>0.768768</td>\n",
       "      <td>NV</td>\n",
       "    </tr>\n",
       "    <tr>\n",
       "      <th>12</th>\n",
       "      <td>6</td>\n",
       "      <td>0.766728</td>\n",
       "      <td>NV</td>\n",
       "    </tr>\n",
       "    <tr>\n",
       "      <th>13</th>\n",
       "      <td>33</td>\n",
       "      <td>0.681262</td>\n",
       "      <td>NV</td>\n",
       "    </tr>\n",
       "    <tr>\n",
       "      <th>14</th>\n",
       "      <td>28</td>\n",
       "      <td>0.576005</td>\n",
       "      <td>NV</td>\n",
       "    </tr>\n",
       "    <tr>\n",
       "      <th>15</th>\n",
       "      <td>17</td>\n",
       "      <td>0.494034</td>\n",
       "      <td>NV</td>\n",
       "    </tr>\n",
       "    <tr>\n",
       "      <th>16</th>\n",
       "      <td>14</td>\n",
       "      <td>0.471664</td>\n",
       "      <td>O</td>\n",
       "    </tr>\n",
       "    <tr>\n",
       "      <th>17</th>\n",
       "      <td>16</td>\n",
       "      <td>0.456110</td>\n",
       "      <td>O</td>\n",
       "    </tr>\n",
       "    <tr>\n",
       "      <th>18</th>\n",
       "      <td>9</td>\n",
       "      <td>0.424170</td>\n",
       "      <td>NV</td>\n",
       "    </tr>\n",
       "    <tr>\n",
       "      <th>19</th>\n",
       "      <td>26</td>\n",
       "      <td>0.395223</td>\n",
       "      <td>O</td>\n",
       "    </tr>\n",
       "    <tr>\n",
       "      <th>20</th>\n",
       "      <td>1</td>\n",
       "      <td>0.340147</td>\n",
       "      <td>O</td>\n",
       "    </tr>\n",
       "    <tr>\n",
       "      <th>21</th>\n",
       "      <td>4</td>\n",
       "      <td>0.328154</td>\n",
       "      <td>NV</td>\n",
       "    </tr>\n",
       "    <tr>\n",
       "      <th>22</th>\n",
       "      <td>18</td>\n",
       "      <td>0.316710</td>\n",
       "      <td>O</td>\n",
       "    </tr>\n",
       "    <tr>\n",
       "      <th>23</th>\n",
       "      <td>5</td>\n",
       "      <td>0.283847</td>\n",
       "      <td>O</td>\n",
       "    </tr>\n",
       "    <tr>\n",
       "      <th>24</th>\n",
       "      <td>24</td>\n",
       "      <td>0.270712</td>\n",
       "      <td>O</td>\n",
       "    </tr>\n",
       "    <tr>\n",
       "      <th>25</th>\n",
       "      <td>25</td>\n",
       "      <td>0.261061</td>\n",
       "      <td>O</td>\n",
       "    </tr>\n",
       "    <tr>\n",
       "      <th>26</th>\n",
       "      <td>11</td>\n",
       "      <td>0.256691</td>\n",
       "      <td>O</td>\n",
       "    </tr>\n",
       "    <tr>\n",
       "      <th>27</th>\n",
       "      <td>19</td>\n",
       "      <td>0.247889</td>\n",
       "      <td>O</td>\n",
       "    </tr>\n",
       "    <tr>\n",
       "      <th>28</th>\n",
       "      <td>29</td>\n",
       "      <td>0.238295</td>\n",
       "      <td>NV</td>\n",
       "    </tr>\n",
       "    <tr>\n",
       "      <th>29</th>\n",
       "      <td>8</td>\n",
       "      <td>0.177428</td>\n",
       "      <td>O</td>\n",
       "    </tr>\n",
       "    <tr>\n",
       "      <th>30</th>\n",
       "      <td>12</td>\n",
       "      <td>0.148292</td>\n",
       "      <td>O</td>\n",
       "    </tr>\n",
       "    <tr>\n",
       "      <th>31</th>\n",
       "      <td>13</td>\n",
       "      <td>0.125113</td>\n",
       "      <td>O</td>\n",
       "    </tr>\n",
       "    <tr>\n",
       "      <th>32</th>\n",
       "      <td>7</td>\n",
       "      <td>0.089991</td>\n",
       "      <td>O</td>\n",
       "    </tr>\n",
       "    <tr>\n",
       "      <th>33</th>\n",
       "      <td>15</td>\n",
       "      <td>0.083212</td>\n",
       "      <td>O</td>\n",
       "    </tr>\n",
       "  </tbody>\n",
       "</table>\n",
       "</div>"
      ],
      "text/plain": [
       "    Sample  Probability of New Variant (NV) from the testing laboratory  \\\n",
       "0       34                                           0.989342             \n",
       "1        3                                           0.927277             \n",
       "2       20                                           0.911406             \n",
       "3       31                                           0.896724             \n",
       "4       27                                           0.875694             \n",
       "5       23                                           0.873166             \n",
       "6       10                                           0.805518             \n",
       "7       21                                           0.801078             \n",
       "8       22                                           0.793945             \n",
       "9       32                                           0.792947             \n",
       "10      30                                           0.789877             \n",
       "11       2                                           0.768768             \n",
       "12       6                                           0.766728             \n",
       "13      33                                           0.681262             \n",
       "14      28                                           0.576005             \n",
       "15      17                                           0.494034             \n",
       "16      14                                           0.471664             \n",
       "17      16                                           0.456110             \n",
       "18       9                                           0.424170             \n",
       "19      26                                           0.395223             \n",
       "20       1                                           0.340147             \n",
       "21       4                                           0.328154             \n",
       "22      18                                           0.316710             \n",
       "23       5                                           0.283847             \n",
       "24      24                                           0.270712             \n",
       "25      25                                           0.261061             \n",
       "26      11                                           0.256691             \n",
       "27      19                                           0.247889             \n",
       "28      29                                           0.238295             \n",
       "29       8                                           0.177428             \n",
       "30      12                                           0.148292             \n",
       "31      13                                           0.125113             \n",
       "32       7                                           0.089991             \n",
       "33      15                                           0.083212             \n",
       "\n",
       "   Actual Class  \n",
       "0            NV  \n",
       "1            NV  \n",
       "2             O  \n",
       "3            NV  \n",
       "4             O  \n",
       "5            NV  \n",
       "6            NV  \n",
       "7            NV  \n",
       "8             O  \n",
       "9            NV  \n",
       "10            O  \n",
       "11           NV  \n",
       "12           NV  \n",
       "13           NV  \n",
       "14           NV  \n",
       "15           NV  \n",
       "16            O  \n",
       "17            O  \n",
       "18           NV  \n",
       "19            O  \n",
       "20            O  \n",
       "21           NV  \n",
       "22            O  \n",
       "23            O  \n",
       "24            O  \n",
       "25            O  \n",
       "26            O  \n",
       "27            O  \n",
       "28           NV  \n",
       "29            O  \n",
       "30            O  \n",
       "31            O  \n",
       "32            O  \n",
       "33            O  "
      ]
     },
     "execution_count": 5,
     "metadata": {},
     "output_type": "execute_result"
    }
   ],
   "source": [
    "subVar_df=pd.read_excel(\"sub-variant-3.xlsx\")\n",
    "subVar_df"
   ]
  },
  {
   "cell_type": "code",
   "execution_count": 7,
   "id": "35109e34-89b1-4321-ab48-98ea4f4498cc",
   "metadata": {},
   "outputs": [],
   "source": [
    "thresholds = [0, 0.2, 0.4, 0.5, 0.6, 0.8, 1]"
   ]
  },
  {
   "cell_type": "code",
   "execution_count": 13,
   "id": "585a0b9a-f9a1-426d-8a54-d699d34e896b",
   "metadata": {},
   "outputs": [],
   "source": [
    "sensi = []\n",
    "specifi = []"
   ]
  },
  {
   "cell_type": "code",
   "execution_count": 23,
   "id": "71efe4ac-c130-4d45-aff4-9561276d79a5",
   "metadata": {},
   "outputs": [],
   "source": [
    "import numpy as np\n",
    "\n",
    "correct_col_name = 'Probability of New Variant (NV) from the testing laboratory'  # Corrected 'laboratary' to 'laboratory'\n",
    "actual_class_col = 'Actual Class'\n",
    "\n",
    "for col in subVar_df.columns:\n",
    "    if \"Probability\" in col:\n",
    "        correct_col_name = col  \n",
    "\n",
    "sensi = []\n",
    "specifi = []\n",
    "\n",
    "for threshold in thresholds:\n",
    "    predictions = np.where(subVar_df[correct_col_name] >= threshold, 'NV', 'O')\n",
    "    TP = np.sum((predictions == 'NV') & (subVar_df[actual_class_col] == 'NV'))\n",
    "    FP = np.sum((predictions == 'NV') & (subVar_df[actual_class_col] == 'O'))\n",
    "    TN = np.sum((predictions == 'O') & (subVar_df[actual_class_col] == 'O'))\n",
    "    FN = np.sum((predictions == 'O') & (subVar_df[actual_class_col] == 'NV'))\n",
    "    \n",
    "    sensi.append(TP / (TP + FN) if (TP + FN) > 0 else 0)\n",
    "    specifi.append(TN / (TN + FP) if (TN + FP) > 0 else 0)\n"
   ]
  },
  {
   "cell_type": "code",
   "execution_count": 25,
   "id": "f3d5f528-15d1-49b4-a80e-92160c8864ba",
   "metadata": {},
   "outputs": [
    {
     "data": {
      "image/png": "[encoded data removed]",
      "text/plain": [
       "<Figure size 900x500 with 1 Axes>"
      ]
     },
     "metadata": {},
     "output_type": "display_data"
    }
   ],
   "source": [
    "plt.figure(figsize=(9, 5))\n",
    "plt.plot(thresholds, sensi, label='Sensitivity', marker='o')\n",
    "plt.plot(thresholds, specifi, label='Specificity', marker='o')\n",
    "plt.title('Sensitivity and Specificity vs Decision Threshold')\n",
    "plt.xlabel('Decision Threshold')\n",
    "plt.ylabel('Value')\n",
    "plt.legend()\n",
    "plt.grid(True)\n",
    "plt.show()"
   ]
  },
  {
   "cell_type": "markdown",
   "id": "514e5a84-40ef-4c95-ae27-b290a099b2c9",
   "metadata": {},
   "source": [
    "Problem 4"
   ]
  },
  {
   "cell_type": "markdown",
   "id": "56cae923-592a-43c5-a697-63e3a030088a",
   "metadata": {},
   "source": [
    "ROC Curve and Threshold Analysis"
   ]
  },
  {
   "cell_type": "code",
   "execution_count": 29,
   "id": "6e0e9f81-6149-454e-b3ef-25210b367b75",
   "metadata": {},
   "outputs": [],
   "source": [
    "from sklearn.metrics import roc_curve, auc"
   ]
  },
  {
   "cell_type": "code",
   "execution_count": 33,
   "id": "0a6ad430-21b7-410c-9edb-054b2a5f89a8",
   "metadata": {},
   "outputs": [],
   "source": [
    "boston_df=pd.read_excel(\"Bostonconsultancy-1-1.xlsx\")"
   ]
  },
  {
   "cell_type": "code",
   "execution_count": 37,
   "id": "7f67f09b-7363-43b7-a699-9730e84edd27",
   "metadata": {},
   "outputs": [],
   "source": [
    "fpr, tpr, thresholds = roc_curve(boston_df['Actual Class'], boston_df['Probability of winning the opportunity'])\n",
    "roc_auc = auc(fpr, tpr)\n",
    "optimal_idx = np.argmax(tpr - fpr)\n",
    "optimal_tsh = thresholds[optimal_idx]"
   ]
  },
  {
   "cell_type": "code",
   "execution_count": 43,
   "id": "c32b0890-77fb-40c8-b4ad-607b4018e3fd",
   "metadata": {},
   "outputs": [
    {
     "data": {
      "image/png": "[encoded data removed]",
      "text/plain": [
       "<Figure size 800x600 with 1 Axes>"
      ]
     },
     "metadata": {},
     "output_type": "display_data"
    },
    {
     "name": "stdout",
     "output_type": "stream",
     "text": [
      "Optimal Threshold: 0.34\n",
      "AUC: 0.7147832817337462\n"
     ]
    }
   ],
   "source": [
    "import matplotlib.pyplot as plt\n",
    "\n",
    "plt.figure(figsize=(8, 6))\n",
    "\n",
    "plt.plot(fpr, tpr, color='teal', lw=2, label=f'ROC curve (area = {roc_auc:.2f})')\n",
    "plt.plot([0, 1], [0, 1], color='skyblue', lw=2, linestyle='--') \n",
    "plt.scatter(fpr[optimal_idx], tpr[optimal_idx], marker='o', color='red', \n",
    "            label=f'Optimal Threshold: {optimal_tsh:.2f}')\n",
    "plt.xlim([0.0, 1.0])\n",
    "plt.ylim([0.0, 1.0])  \n",
    "plt.xlabel('False Positive Rate')\n",
    "plt.ylabel('True Positive Rate')\n",
    "plt.title('Receiver Operating Characteristic')\n",
    "plt.legend(loc=\"lower right\")\n",
    "plt.show()\n",
    "print(f\"Optimal Threshold: {optimal_tsh}\")\n",
    "print(f\"AUC: {roc_auc}\")"
   ]
  },
  {
   "cell_type": "markdown",
   "id": "7b317334-5394-4a12-9d17-5a8076d9e656",
   "metadata": {},
   "source": [
    "Qusetion 2"
   ]
  },
  {
   "cell_type": "markdown",
   "id": "cf259454-a211-4869-9c52-d40a6d95a18d",
   "metadata": {},
   "source": [
    "Performance Metrics Calculation"
   ]
  },
  {
   "cell_type": "code",
   "execution_count": 45,
   "id": "699e96ea-595e-40a1-a9fd-bece6d140b93",
   "metadata": {},
   "outputs": [],
   "source": [
    "from sklearn.metrics import accuracy_score, precision_score, recall_score, f1_score\n",
    "from sklearn.metrics import roc_curve, auc"
   ]
  },
  {
   "cell_type": "code",
   "execution_count": 47,
   "id": "859faa16-027f-49e6-b918-a2c7d3818576",
   "metadata": {},
   "outputs": [],
   "source": [
    "fpr, tpr, thresholds = roc_curve(boston_df['Actual Class'], boston_df['Probability of winning the opportunity'])\n",
    "roc_auc = auc(fpr, tpr)\n",
    "optimal_idx = np.argmax(tpr - fpr)\n",
    "optimal_tsh = thresholds[optimal_idx]\n",
    "predications = (boston_df['Probability of winning the opportunity'] >= optimal_tsh).astype(int) "
   ]
  },
  {
   "cell_type": "code",
   "execution_count": 51,
   "id": "14ce6b01-af06-43e7-91ef-13dd07146464",
   "metadata": {},
   "outputs": [],
   "source": [
    "accuracy = accuracy_score(boston_df['Actual Class'], predications)\n",
    "precision = precision_score(boston_df['Actual Class'], predications)\n",
    "recall = recall_score(boston_df['Actual Class'], predications)\n",
    "f1 = f1_score(boston_df['Actual Class'], predications)"
   ]
  },
  {
   "cell_type": "code",
   "execution_count": 53,
   "id": "6803c7a9-8810-4645-a497-1495fcfcb714",
   "metadata": {},
   "outputs": [
    {
     "name": "stdout",
     "output_type": "stream",
     "text": [
      "Optimal Threshold: 0.34\n",
      "Accuracy: 0.6666666666666666\n",
      "Precision: 0.6\n",
      "Recall: 0.8823529411764706\n",
      "F1 Score: 0.7142857142857143\n"
     ]
    }
   ],
   "source": [
    "print(f\"Optimal Threshold: {optimal_tsh}\")\n",
    "print(f\"Accuracy: {accuracy}\")\n",
    "print(f\"Precision: {precision}\")\n",
    "print(f\"Recall: {recall}\")\n",
    "print(f\"F1 Score: {f1}\")"
   ]
  },
  {
   "cell_type": "markdown",
   "id": "b06d459f-85b9-4dfb-a641-a6c4adba9c6f",
   "metadata": {},
   "source": [
    "Question 3"
   ]
  },
  {
   "cell_type": "markdown",
   "id": "b72cb793-8607-4502-ba50-fc6cc7a67bcc",
   "metadata": {},
   "source": [
    "Profit Maximization Strategy"
   ]
  },
  {
   "cell_type": "code",
   "execution_count": 57,
   "id": "12552f87-b852-4b04-9374-c84d3d14de91",
   "metadata": {},
   "outputs": [],
   "source": [
    "boston_df['Expected Net Profit'] = (boston_df['Probability of winning the opportunity'] * boston_df['Net Profit']) - boston_df['Service Cost']"
   ]
  },
  {
   "cell_type": "code",
   "execution_count": 59,
   "id": "3907568b-7f70-4de1-b7bf-eb3408de71ae",
   "metadata": {},
   "outputs": [],
   "source": [
    "top_clients = boston_df.sort_values(by='Expected Net Profit', ascending=False).head(10)"
   ]
  },
  {
   "cell_type": "code",
   "execution_count": 61,
   "id": "3a597a14-a0b0-47f6-a2ce-acde2ae8ebf5",
   "metadata": {},
   "outputs": [],
   "source": [
    "expected_total_net_profit = top_clients['Expected Net Profit'].sum()"
   ]
  },
  {
   "cell_type": "code",
   "execution_count": 63,
   "id": "d8c8c68e-687b-4dcc-a515-2a5a320ff611",
   "metadata": {},
   "outputs": [
    {
     "name": "stdout",
     "output_type": "stream",
     "text": [
      "            Companies Name  Expected Net Profit\n",
      "1   Charter Communications             -336.132\n",
      "2                      AIG             -336.860\n",
      "0               Amazon.com             -337.330\n",
      "12      UnitedHealth Group             -342.436\n",
      "63          JPMorgan Chase             -342.596\n",
      "4                Citigroup             -344.542\n",
      "3                  MetLife             -344.808\n",
      "7           Morgan Stanley             -350.759\n",
      "9               Home Depot             -352.100\n",
      "6                  PepsiCo             -353.204\n",
      "Expected Total Net Profit from Top 10 Clients: -3440.767\n"
     ]
    }
   ],
   "source": [
    "print(top_clients[['Companies Name', 'Expected Net Profit']])\n",
    "print(f\"Expected Total Net Profit from Top 10 Clients: {expected_total_net_profit}\")"
   ]
  }
 ],
 "metadata": {
  "kernelspec": {
   "display_name": "Python 3 (ipykernel)",
   "language": "python",
   "name": "python3"
  },
  "language_info": {
   "codemirror_mode": {
    "name": "ipython",
    "version": 3
   },
   "file_extension": ".py",
   "mimetype": "text/x-python",
   "name": "python",
   "nbconvert_exporter": "python",
   "pygments_lexer": "ipython3",
   "version": "3.12.2"
  }
 },
 "nbformat": 4,
 "nbformat_minor": 5
}
